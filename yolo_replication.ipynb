{
 "cells": [
  {
   "cell_type": "code",
   "execution_count": 7,
   "metadata": {},
   "outputs": [],
   "source": [
    "import torch\n",
    "import torch.nn as nn\n",
    "import torch.nn.functional as F\n",
    "import matplotlib.pyplot as plt\n",
    "import numpy as np\n",
    "import tqdm.notebook as tqdm\n",
    "import datasets\n",
    "import dotenv"
   ]
  },
  {
   "cell_type": "code",
   "execution_count": 8,
   "metadata": {},
   "outputs": [
    {
     "data": {
      "text/plain": [
       "True"
      ]
     },
     "execution_count": 8,
     "metadata": {},
     "output_type": "execute_result"
    }
   ],
   "source": [
    "dotenv.load_dotenv(override=True)"
   ]
  },
  {
   "cell_type": "code",
   "execution_count": 14,
   "metadata": {},
   "outputs": [
    {
     "ename": "AttributeError",
     "evalue": "'IterableDataset' object has no attribute 'set_format'",
     "output_type": "error",
     "traceback": [
      "\u001b[0;31m---------------------------------------------------------------------------\u001b[0m",
      "\u001b[0;31mAttributeError\u001b[0m                            Traceback (most recent call last)",
      "Cell \u001b[0;32mIn[14], line 2\u001b[0m\n\u001b[1;32m      1\u001b[0m imagenet_train \u001b[38;5;241m=\u001b[39m datasets\u001b[38;5;241m.\u001b[39mload_dataset(\u001b[38;5;124m'\u001b[39m\u001b[38;5;124mILSVRC/imagenet-1k\u001b[39m\u001b[38;5;124m'\u001b[39m, split\u001b[38;5;241m=\u001b[39m\u001b[38;5;124m'\u001b[39m\u001b[38;5;124mtrain\u001b[39m\u001b[38;5;124m'\u001b[39m, streaming\u001b[38;5;241m=\u001b[39m\u001b[38;5;28;01mTrue\u001b[39;00m)\n\u001b[0;32m----> 2\u001b[0m \u001b[43mimagenet_train\u001b[49m\u001b[38;5;241;43m.\u001b[39;49m\u001b[43mset_format\u001b[49m(\u001b[38;5;124m'\u001b[39m\u001b[38;5;124mtorch\u001b[39m\u001b[38;5;124m'\u001b[39m)\n",
      "\u001b[0;31mAttributeError\u001b[0m: 'IterableDataset' object has no attribute 'set_format'"
     ]
    }
   ],
   "source": [
    "imagenet_train = datasets.load_dataset('ILSVRC/imagenet-1k', split='train', streaming=True)"
   ]
  },
  {
   "cell_type": "code",
   "execution_count": null,
   "metadata": {},
   "outputs": [],
   "source": [
    "class YOLO(nn.Module):\n",
    "  def __init__(self):\n",
    "    super().__init__()\n",
    "    self.conv1_1 = nn.Conv2d(3, 64, (7, 7), 2, padding='same')\n",
    "    self.pool1 = nn.MaxPool2d((2, 2), 2, padding='same')\n",
    "\n",
    "    self.conv2_1 = nn.Conv2d(64, 192, (3, 3), padding='same')\n",
    "    self.pool2 = nn.MaxPool2d((2, 2), 2, padding='same')\n",
    "\n",
    "    self.conv3_1 = nn.Conv2d(192, 128, (1, 1), padding='same')\n",
    "    self.conv3_2 = nn.Conv2d(128, 256, (3, 3), padding='same')\n",
    "    self.conv3_3 = nn.Conv2d(256, 256, (1, 1), padding='same')\n",
    "    self.conv3_4 = nn.Conv2d(256, 512, (3, 3), padding='same')\n",
    "    self.pool3 = nn.MaxPool2d((2, 2), 2, padding='same')\n",
    "\n",
    "    repeated_blocks = []\n",
    "    for _ in range(4):\n",
    "      repeated_blocks.append(nn.Conv2d(512, 256, (1, 1), padding='same'))\n",
    "      repeated_blocks.append(nn.Conv2d(256, 512, (3, 3), padding='same'))\n",
    "\n",
    "    self.conv4_1 = nn.ModuleList(repeated_blocks)\n",
    "    self.conv4_2 = nn.Conv2d(512, 512, (1, 1), padding='same')\n",
    "    self.conv4_3 = nn.Conv2d(512, 1024, (3, 3), padding='same')\n",
    "    self.pool4 = nn.MaxPool2d((2, 2), 2, padding='same')\n",
    "\n",
    "\n",
    "    repeated_blocks = []\n",
    "    for _ in range(2):\n",
    "      repeated_blocks.append(nn.Conv2d(1024, 512, (1, 1)), padding='same')\n",
    "      repeated_blocks.append(nn.Conv2d(512, 1024, (3, 3)), padding='same')\n",
    "\n",
    "    self.conv5_1 = nn.ModuleList(repeated_blocks)\n",
    "    self.conv5_2 = nn.Conv2d(1024, 1024, (3, 3), padding='same')\n",
    "    self.conv5_3 = nn.Conv2d(1024, 1024, (3, 3), 2, padding='same')\n",
    "\n",
    "    self.conv6_1 = nn.Conv2d(1024, 1024, (3, 3), padding='same')\n",
    "    self.conv6_2 = nn.Conv2d(1024, 1024, (3, 3), padding='same')\n",
    "\n",
    "  def forward(self, data):\n",
    "    pass_one = self.conv_psss_one(data)\n",
    "    pass_two = self.conv_pass_two(pass_one)\n",
    "    pass_three = self.conv_pass_three(pass_two)\n",
    "    pass_four = self.conv_pass_four(pass_three)\n",
    "    pass_five = self.conv_pass_five(pass_four)\n",
    "    pass_six = self.conv_pass_six(pass_five)\n",
    "\n",
    "  def conv_pass_one(self, data):\n",
    "    conv_1_res = self.conv1_1(data)\n",
    "    return self.pool1(conv_1_res)\n",
    "\n",
    "  def conv_pass_two(self, data):\n",
    "    conv_1_res = self.conv2_1(data)\n",
    "    return self.pool2(conv_1_res)\n",
    "\n",
    "  def conv_pass_three(self, data):\n",
    "    conv1_res = self.conv3_1(data)\n",
    "    conv2_res = self.conv3_2(conv1_res)\n",
    "    conv3_res = self.conv3_3(conv2_res)\n",
    "    conv4_res = self.conv3_4(conv3_res)\n",
    "    return self.pool3(conv4_res)\n",
    "\n",
    "  def conv_pass_four(self, data):\n",
    "    conv1_res = data\n",
    "    for conv in self.conv4_1:\n",
    "      conv1_res = conv(data)\n",
    "\n",
    "    conv2_res = self.conv4_2(conv1_res)\n",
    "    conv3_res = self.conv4_3(conv2_res)\n",
    "    conv4_res = self.conv4_4(conv3_res)\n",
    "    return self.pool4(conv4_res)\n",
    "\n",
    "  def conv_pass_five(self, data):\n",
    "    conv1_res = data\n",
    "    for conv in self.conv5_1:\n",
    "      conv1_res = conv(data)\n",
    "\n",
    "    conv2_res = self.conv5_2(conv1_res)\n",
    "    return self.conv5_3(conv2_res)\n",
    "\n",
    "  def conv_pass_six(self, data):\n",
    "    conv1_res = self.conv6_1(data)\n",
    "    return self.conv6_2(conv1_res)"
   ]
  },
  {
   "cell_type": "code",
   "execution_count": 13,
   "metadata": {},
   "outputs": [
    {
     "data": {
      "text/plain": [
       "{'image': <PIL.JpegImagePlugin.JpegImageFile image mode=RGB size=817x363>,\n",
       " 'label': 726}"
      ]
     },
     "execution_count": 13,
     "metadata": {},
     "output_type": "execute_result"
    }
   ],
   "source": [
    "next(iter(imagenet_train))"
   ]
  }
 ],
 "metadata": {
  "kernelspec": {
   "display_name": "YOLO",
   "language": "python",
   "name": "python3"
  },
  "language_info": {
   "codemirror_mode": {
    "name": "ipython",
    "version": 3
   },
   "file_extension": ".py",
   "mimetype": "text/x-python",
   "name": "python",
   "nbconvert_exporter": "python",
   "pygments_lexer": "ipython3",
   "version": "3.10.12"
  }
 },
 "nbformat": 4,
 "nbformat_minor": 2
}
